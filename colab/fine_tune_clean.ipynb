{
 "cells": [
  {
   "cell_type": "markdown",
   "id": "7d5d569b",
   "metadata": {},
   "source": [
    "# 🧠 Fine-Tune GPT2 untuk Chatbot Kampus\n",
    "Model ini akan dilatih dengan dataset tanya-jawab kampus berbasis GPT2."
   ]
  },
  {
   "cell_type": "code",
   "execution_count": 1,
   "id": "d044fc10",
   "metadata": {},
   "outputs": [
    {
     "name": "stdout",
     "output_type": "stream",
     "text": [
      "^C\n"
     ]
    },
    {
     "name": "stdout",
     "output_type": "stream",
     "text": [
      "Requirement already satisfied: transformers in c:\\users\\yudha\\appdata\\local\\programs\\python\\python311\\lib\\site-packages (4.53.1)\n",
      "Collecting datasets\n",
      "  Downloading datasets-4.0.0-py3-none-any.whl.metadata (19 kB)\n",
      "Requirement already satisfied: filelock in c:\\users\\yudha\\appdata\\local\\programs\\python\\python311\\lib\\site-packages (from transformers) (3.18.0)\n",
      "Requirement already satisfied: huggingface-hub<1.0,>=0.30.0 in c:\\users\\yudha\\appdata\\local\\programs\\python\\python311\\lib\\site-packages (from transformers) (0.33.2)\n",
      "Requirement already satisfied: numpy>=1.17 in c:\\users\\yudha\\appdata\\local\\programs\\python\\python311\\lib\\site-packages (from transformers) (1.26.4)\n",
      "Requirement already satisfied: packaging>=20.0 in c:\\users\\yudha\\appdata\\roaming\\python\\python311\\site-packages (from transformers) (24.0)\n",
      "Requirement already satisfied: pyyaml>=5.1 in c:\\users\\yudha\\appdata\\local\\programs\\python\\python311\\lib\\site-packages (from transformers) (6.0.2)\n",
      "Requirement already satisfied: regex!=2019.12.17 in c:\\users\\yudha\\appdata\\local\\programs\\python\\python311\\lib\\site-packages (from transformers) (2024.11.6)\n",
      "Requirement already satisfied: requests in c:\\users\\yudha\\appdata\\local\\programs\\python\\python311\\lib\\site-packages (from transformers) (2.32.3)\n",
      "Requirement already satisfied: tokenizers<0.22,>=0.21 in c:\\users\\yudha\\appdata\\local\\programs\\python\\python311\\lib\\site-packages (from transformers) (0.21.2)\n",
      "Requirement already satisfied: safetensors>=0.4.3 in c:\\users\\yudha\\appdata\\local\\programs\\python\\python311\\lib\\site-packages (from transformers) (0.5.3)\n",
      "Requirement already satisfied: tqdm>=4.27 in c:\\users\\yudha\\appdata\\local\\programs\\python\\python311\\lib\\site-packages (from transformers) (4.67.1)\n",
      "Collecting pyarrow>=15.0.0 (from datasets)\n",
      "  Downloading pyarrow-20.0.0-cp311-cp311-win_amd64.whl.metadata (3.4 kB)\n",
      "Collecting dill<0.3.9,>=0.3.0 (from datasets)\n",
      "  Downloading dill-0.3.8-py3-none-any.whl.metadata (10 kB)\n",
      "Requirement already satisfied: pandas in c:\\users\\yudha\\appdata\\local\\programs\\python\\python311\\lib\\site-packages (from datasets) (2.2.2)\n",
      "Collecting xxhash (from datasets)\n",
      "  Downloading xxhash-3.5.0-cp311-cp311-win_amd64.whl.metadata (13 kB)\n",
      "Collecting multiprocess<0.70.17 (from datasets)\n",
      "  Downloading multiprocess-0.70.16-py311-none-any.whl.metadata (7.2 kB)\n",
      "Collecting fsspec<=2025.3.0,>=2023.1.0 (from fsspec[http]<=2025.3.0,>=2023.1.0->datasets)\n",
      "  Downloading fsspec-2025.3.0-py3-none-any.whl.metadata (11 kB)\n",
      "Requirement already satisfied: aiohttp!=4.0.0a0,!=4.0.0a1 in c:\\users\\yudha\\appdata\\local\\programs\\python\\python311\\lib\\site-packages (from fsspec[http]<=2025.3.0,>=2023.1.0->datasets) (3.11.12)\n",
      "Requirement already satisfied: typing-extensions>=3.7.4.3 in c:\\users\\yudha\\appdata\\local\\programs\\python\\python311\\lib\\site-packages (from huggingface-hub<1.0,>=0.30.0->transformers) (4.14.0)\n",
      "Requirement already satisfied: charset-normalizer<4,>=2 in c:\\users\\yudha\\appdata\\local\\programs\\python\\python311\\lib\\site-packages (from requests->transformers) (3.3.2)\n",
      "Requirement already satisfied: idna<4,>=2.5 in c:\\users\\yudha\\appdata\\local\\programs\\python\\python311\\lib\\site-packages (from requests->transformers) (3.10)\n",
      "Requirement already satisfied: urllib3<3,>=1.21.1 in c:\\users\\yudha\\appdata\\local\\programs\\python\\python311\\lib\\site-packages (from requests->transformers) (2.4.0)\n",
      "Requirement already satisfied: certifi>=2017.4.17 in c:\\users\\yudha\\appdata\\local\\programs\\python\\python311\\lib\\site-packages (from requests->transformers) (2025.6.15)\n",
      "Requirement already satisfied: colorama in c:\\users\\yudha\\appdata\\local\\programs\\python\\python311\\lib\\site-packages (from tqdm>=4.27->transformers) (0.4.6)\n",
      "Requirement already satisfied: python-dateutil>=2.8.2 in c:\\users\\yudha\\appdata\\roaming\\python\\python311\\site-packages (from pandas->datasets) (2.9.0.post0)\n",
      "Requirement already satisfied: pytz>=2020.1 in c:\\users\\yudha\\appdata\\local\\programs\\python\\python311\\lib\\site-packages (from pandas->datasets) (2024.1)\n",
      "Requirement already satisfied: tzdata>=2022.7 in c:\\users\\yudha\\appdata\\local\\programs\\python\\python311\\lib\\site-packages (from pandas->datasets) (2024.1)\n",
      "Requirement already satisfied: aiohappyeyeballs>=2.3.0 in c:\\users\\yudha\\appdata\\local\\programs\\python\\python311\\lib\\site-packages (from aiohttp!=4.0.0a0,!=4.0.0a1->fsspec[http]<=2025.3.0,>=2023.1.0->datasets) (2.4.6)\n",
      "Requirement already satisfied: aiosignal>=1.1.2 in c:\\users\\yudha\\appdata\\local\\programs\\python\\python311\\lib\\site-packages (from aiohttp!=4.0.0a0,!=4.0.0a1->fsspec[http]<=2025.3.0,>=2023.1.0->datasets) (1.3.2)\n",
      "Requirement already satisfied: attrs>=17.3.0 in c:\\users\\yudha\\appdata\\local\\programs\\python\\python311\\lib\\site-packages (from aiohttp!=4.0.0a0,!=4.0.0a1->fsspec[http]<=2025.3.0,>=2023.1.0->datasets) (25.1.0)\n",
      "Requirement already satisfied: frozenlist>=1.1.1 in c:\\users\\yudha\\appdata\\local\\programs\\python\\python311\\lib\\site-packages (from aiohttp!=4.0.0a0,!=4.0.0a1->fsspec[http]<=2025.3.0,>=2023.1.0->datasets) (1.5.0)\n",
      "Requirement already satisfied: multidict<7.0,>=4.5 in c:\\users\\yudha\\appdata\\local\\programs\\python\\python311\\lib\\site-packages (from aiohttp!=4.0.0a0,!=4.0.0a1->fsspec[http]<=2025.3.0,>=2023.1.0->datasets) (6.1.0)\n",
      "Requirement already satisfied: propcache>=0.2.0 in c:\\users\\yudha\\appdata\\local\\programs\\python\\python311\\lib\\site-packages (from aiohttp!=4.0.0a0,!=4.0.0a1->fsspec[http]<=2025.3.0,>=2023.1.0->datasets) (0.2.1)\n",
      "Requirement already satisfied: yarl<2.0,>=1.17.0 in c:\\users\\yudha\\appdata\\local\\programs\\python\\python311\\lib\\site-packages (from aiohttp!=4.0.0a0,!=4.0.0a1->fsspec[http]<=2025.3.0,>=2023.1.0->datasets) (1.18.3)\n",
      "Requirement already satisfied: six>=1.5 in c:\\users\\yudha\\appdata\\roaming\\python\\python311\\site-packages (from python-dateutil>=2.8.2->pandas->datasets) (1.16.0)\n",
      "Downloading datasets-4.0.0-py3-none-any.whl (494 kB)\n",
      "Downloading dill-0.3.8-py3-none-any.whl (116 kB)\n",
      "Downloading fsspec-2025.3.0-py3-none-any.whl (193 kB)\n",
      "Downloading multiprocess-0.70.16-py311-none-any.whl (143 kB)\n",
      "Downloading pyarrow-20.0.0-cp311-cp311-win_amd64.whl (25.8 MB)\n",
      "   ---------------------------------------- 0.0/25.8 MB ? eta -:--:--\n",
      "   ---------------------------------------- 0.3/25.8 MB ? eta -:--:--\n",
      "    --------------------------------------- 0.5/25.8 MB 1.4 MB/s eta 0:00:19\n",
      "   - -------------------------------------- 1.0/25.8 MB 1.7 MB/s eta 0:00:15\n",
      "   -- ------------------------------------- 1.3/25.8 MB 1.8 MB/s eta 0:00:14\n",
      "   -- ------------------------------------- 1.8/25.8 MB 1.8 MB/s eta 0:00:14\n",
      "   --- ------------------------------------ 2.4/25.8 MB 1.9 MB/s eta 0:00:13\n",
      "   ---- ----------------------------------- 2.6/25.8 MB 1.9 MB/s eta 0:00:13\n",
      "   ---- ----------------------------------- 3.1/25.8 MB 1.9 MB/s eta 0:00:12\n",
      "   ----- ---------------------------------- 3.4/25.8 MB 1.9 MB/s eta 0:00:12\n",
      "   ------ --------------------------------- 3.9/25.8 MB 1.9 MB/s eta 0:00:12\n",
      "   ------ --------------------------------- 4.2/25.8 MB 1.9 MB/s eta 0:00:12\n",
      "   ------- -------------------------------- 4.7/25.8 MB 1.9 MB/s eta 0:00:11\n",
      "   ------- -------------------------------- 5.0/25.8 MB 1.9 MB/s eta 0:00:11\n",
      "   -------- ------------------------------- 5.5/25.8 MB 1.9 MB/s eta 0:00:11\n",
      "   --------- ------------------------------ 6.0/25.8 MB 1.9 MB/s eta 0:00:11\n",
      "   --------- ------------------------------ 6.3/25.8 MB 1.9 MB/s eta 0:00:11\n",
      "   ---------- ----------------------------- 6.6/25.8 MB 1.9 MB/s eta 0:00:10\n",
      "   ---------- ----------------------------- 7.1/25.8 MB 1.9 MB/s eta 0:00:10\n",
      "   ----------- ---------------------------- 7.3/25.8 MB 1.9 MB/s eta 0:00:10\n",
      "   ------------ --------------------------- 7.9/25.8 MB 1.9 MB/s eta 0:00:10\n",
      "   ------------ --------------------------- 8.1/25.8 MB 1.9 MB/s eta 0:00:10\n",
      "   ------------- -------------------------- 8.7/25.8 MB 1.9 MB/s eta 0:00:09\n",
      "   ------------- -------------------------- 8.9/25.8 MB 1.9 MB/s eta 0:00:09\n",
      "   -------------- ------------------------- 9.4/25.8 MB 1.9 MB/s eta 0:00:09\n",
      "   --------------- ------------------------ 9.7/25.8 MB 1.9 MB/s eta 0:00:09\n",
      "   --------------- ------------------------ 10.2/25.8 MB 1.9 MB/s eta 0:00:09\n",
      "   ---------------- ----------------------- 10.5/25.8 MB 1.9 MB/s eta 0:00:09\n",
      "   ---------------- ----------------------- 10.7/25.8 MB 1.9 MB/s eta 0:00:09\n",
      "   ----------------- ---------------------- 11.3/25.8 MB 1.9 MB/s eta 0:00:08\n",
      "   ----------------- ---------------------- 11.5/25.8 MB 1.8 MB/s eta 0:00:08\n",
      "   ------------------ --------------------- 11.8/25.8 MB 1.8 MB/s eta 0:00:08\n",
      "   ------------------- -------------------- 12.3/25.8 MB 1.8 MB/s eta 0:00:08\n",
      "   ------------------- -------------------- 12.6/25.8 MB 1.8 MB/s eta 0:00:08\n",
      "   ------------------- -------------------- 12.8/25.8 MB 1.8 MB/s eta 0:00:08\n",
      "   -------------------- ------------------- 13.1/25.8 MB 1.8 MB/s eta 0:00:07\n",
      "   --------------------- ------------------ 13.6/25.8 MB 1.8 MB/s eta 0:00:07\n",
      "   --------------------- ------------------ 13.9/25.8 MB 1.8 MB/s eta 0:00:07\n",
      "   --------------------- ------------------ 14.2/25.8 MB 1.8 MB/s eta 0:00:07\n",
      "   ---------------------- ----------------- 14.7/25.8 MB 1.8 MB/s eta 0:00:07\n",
      "   ----------------------- ---------------- 14.9/25.8 MB 1.8 MB/s eta 0:00:06\n",
      "   ----------------------- ---------------- 15.5/25.8 MB 1.8 MB/s eta 0:00:06\n",
      "   ------------------------ --------------- 15.7/25.8 MB 1.8 MB/s eta 0:00:06\n",
      "   ------------------------- -------------- 16.3/25.8 MB 1.8 MB/s eta 0:00:06\n",
      "   ------------------------- -------------- 16.5/25.8 MB 1.8 MB/s eta 0:00:06\n",
      "   -------------------------- ------------- 17.0/25.8 MB 1.8 MB/s eta 0:00:05\n",
      "   --------------------------- ------------ 17.6/25.8 MB 1.8 MB/s eta 0:00:05\n",
      "   --------------------------- ------------ 17.8/25.8 MB 1.8 MB/s eta 0:00:05\n",
      "   ---------------------------- ----------- 18.4/25.8 MB 1.8 MB/s eta 0:00:05\n",
      "   ---------------------------- ----------- 18.6/25.8 MB 1.8 MB/s eta 0:00:04\n",
      "   ----------------------------- ---------- 19.1/25.8 MB 1.8 MB/s eta 0:00:04\n",
      "   ------------------------------ --------- 19.7/25.8 MB 1.8 MB/s eta 0:00:04\n",
      "   ------------------------------ --------- 19.9/25.8 MB 1.8 MB/s eta 0:00:04\n",
      "   ------------------------------- -------- 20.4/25.8 MB 1.8 MB/s eta 0:00:03\n",
      "   -------------------------------- ------- 20.7/25.8 MB 1.8 MB/s eta 0:00:03\n",
      "   -------------------------------- ------- 21.2/25.8 MB 1.9 MB/s eta 0:00:03\n",
      "   --------------------------------- ------ 21.5/25.8 MB 1.9 MB/s eta 0:00:03\n",
      "   ---------------------------------- ----- 22.0/25.8 MB 1.9 MB/s eta 0:00:03\n",
      "   ---------------------------------- ----- 22.5/25.8 MB 1.9 MB/s eta 0:00:02\n",
      "   ----------------------------------- ---- 22.8/25.8 MB 1.9 MB/s eta 0:00:02\n",
      "   ------------------------------------ --- 23.3/25.8 MB 1.9 MB/s eta 0:00:02\n",
      "   ------------------------------------ --- 23.6/25.8 MB 1.9 MB/s eta 0:00:02\n",
      "   ------------------------------------- -- 24.1/25.8 MB 1.9 MB/s eta 0:00:01\n",
      "   ------------------------------------- -- 24.4/25.8 MB 1.9 MB/s eta 0:00:01\n",
      "   -------------------------------------- - 24.6/25.8 MB 1.9 MB/s eta 0:00:01\n",
      "   ---------------------------------------  25.2/25.8 MB 1.8 MB/s eta 0:00:01\n",
      "   ---------------------------------------  25.4/25.8 MB 1.8 MB/s eta 0:00:01\n",
      "   ---------------------------------------- 25.8/25.8 MB 1.8 MB/s eta 0:00:00\n",
      "Downloading xxhash-3.5.0-cp311-cp311-win_amd64.whl (30 kB)\n",
      "Installing collected packages: xxhash, pyarrow, fsspec, dill, multiprocess, datasets\n",
      "  Attempting uninstall: fsspec\n",
      "    Found existing installation: fsspec 2025.3.2\n",
      "    Uninstalling fsspec-2025.3.2:\n",
      "      Successfully uninstalled fsspec-2025.3.2\n",
      "Successfully installed datasets-4.0.0 dill-0.3.8 fsspec-2025.3.0 multiprocess-0.70.16 pyarrow-20.0.0 xxhash-3.5.0\n"
     ]
    },
    {
     "name": "stderr",
     "output_type": "stream",
     "text": [
      "\n",
      "[notice] A new release of pip is available: 24.3.1 -> 25.1.1\n",
      "[notice] To update, run: python.exe -m pip install --upgrade pip\n"
     ]
    }
   ],
   "source": [
    "!pip install transformers datasets"
   ]
  },
  {
   "cell_type": "markdown",
   "id": "f1355482",
   "metadata": {},
   "source": [
    "## 📁 Upload File Dataset `qa_kampus.jsonl`"
   ]
  },
  {
   "cell_type": "code",
   "execution_count": null,
   "id": "5c0e759b",
   "metadata": {},
   "outputs": [],
   "source": [
    "from google.colab import files\n",
    "uploaded = files.upload()"
   ]
  },
  {
   "cell_type": "code",
   "execution_count": null,
   "id": "608f4bcd",
   "metadata": {},
   "outputs": [],
   "source": [
    "from datasets import load_dataset\n",
    "\n",
    "dataset = load_dataset(\"json\", data_files=\"qa_kampus.jsonl\")\n",
    "dataset = dataset[\"train\"].train_test_split(test_size=0.1)\n",
    "dataset"
   ]
  },
  {
   "cell_type": "markdown",
   "id": "a31326d6",
   "metadata": {},
   "source": [
    "## 🔧 Load Tokenizer & Model GPT2"
   ]
  },
  {
   "cell_type": "code",
   "execution_count": null,
   "id": "7f5ebfba",
   "metadata": {},
   "outputs": [],
   "source": [
    "from transformers import GPT2Tokenizer, GPT2LMHeadModel\n",
    "\n",
    "tokenizer = GPT2Tokenizer.from_pretrained(\"gpt2\")\n",
    "tokenizer.pad_token = tokenizer.eos_token\n",
    "\n",
    "model = GPT2LMHeadModel.from_pretrained(\"gpt2\")"
   ]
  },
  {
   "cell_type": "markdown",
   "id": "d4a5d358",
   "metadata": {},
   "source": [
    "## 🔠 Tokenisasi Dataset"
   ]
  },
  {
   "cell_type": "code",
   "execution_count": null,
   "id": "c73f50c5",
   "metadata": {},
   "outputs": [],
   "source": [
    "def tokenize(example):\n",
    "    return tokenizer(example[\"text\"], truncation=True, padding=\"max_length\", max_length=128)\n",
    "\n",
    "tokenized_dataset = dataset.map(tokenize, batched=True)"
   ]
  },
  {
   "cell_type": "markdown",
   "id": "0b490e92",
   "metadata": {},
   "source": [
    "## 🏋️ Fine-Tune GPT2"
   ]
  },
  {
   "cell_type": "code",
   "execution_count": null,
   "id": "0181761b",
   "metadata": {},
   "outputs": [],
   "source": [
    "from transformers import Trainer, TrainingArguments\n",
    "\n",
    "training_args = TrainingArguments(\n",
    "    output_dir=\"./results\",\n",
    "    num_train_epochs=3,\n",
    "    per_device_train_batch_size=4,\n",
    "    per_device_eval_batch_size=4,\n",
    "    evaluation_strategy=\"epoch\",\n",
    "    save_strategy=\"epoch\",\n",
    "    save_total_limit=2,\n",
    "    logging_steps=10,\n",
    "    fp16=True\n",
    ")\n",
    "\n",
    "trainer = Trainer(\n",
    "    model=model,\n",
    "    args=training_args,\n",
    "    train_dataset=tokenized_dataset[\"train\"],\n",
    "    eval_dataset=tokenized_dataset[\"test\"],\n",
    "    tokenizer=tokenizer\n",
    ")\n",
    "\n",
    "trainer.train()"
   ]
  },
  {
   "cell_type": "markdown",
   "id": "083451f0",
   "metadata": {},
   "source": [
    "## 💾 Simpan Model & Tokenizer"
   ]
  },
  {
   "cell_type": "code",
   "execution_count": null,
   "id": "64100b25",
   "metadata": {},
   "outputs": [],
   "source": [
    "trainer.save_model(\"gpt2-kampus\")\n",
    "tokenizer.save_pretrained(\"gpt2-kampus\")"
   ]
  },
  {
   "cell_type": "markdown",
   "id": "f5c244d7",
   "metadata": {},
   "source": [
    "## ⬇️ Download Model ke Laptop"
   ]
  },
  {
   "cell_type": "code",
   "execution_count": null,
   "id": "472042ca",
   "metadata": {},
   "outputs": [],
   "source": [
    "!zip -r gpt2-kampus.zip gpt2-kampus\n",
    "files.download(\"gpt2-kampus.zip\")"
   ]
  }
 ],
 "metadata": {
  "kernelspec": {
   "display_name": "Python 3",
   "language": "python",
   "name": "python3"
  },
  "language_info": {
   "codemirror_mode": {
    "name": "ipython",
    "version": 3
   },
   "file_extension": ".py",
   "mimetype": "text/x-python",
   "name": "python",
   "nbconvert_exporter": "python",
   "pygments_lexer": "ipython3",
   "version": "3.11.8"
  }
 },
 "nbformat": 4,
 "nbformat_minor": 5
}
